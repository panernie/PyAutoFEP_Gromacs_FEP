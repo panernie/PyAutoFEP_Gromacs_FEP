{
  "nbformat": 4,
  "nbformat_minor": 0,
  "metadata": {
    "colab": {
      "name": "PyAutoFEP_Gromacs_MD.ipynb",
      "provenance": [],
      "collapsed_sections": []
    },
    "kernelspec": {
      "display_name": "Python 3",
      "language": "python",
      "name": "python3"
    },
    "language_info": {
      "codemirror_mode": {
        "name": "ipython",
        "version": 3
      },
      "file_extension": ".py",
      "mimetype": "text/x-python",
      "name": "python",
      "nbconvert_exporter": "python",
      "pygments_lexer": "ipython3",
      "version": "3.8.5"
    },
    "accelerator": "GPU"
  },
  "cells": [
    {
      "cell_type": "markdown",
      "metadata": {
        "id": "fdb_tnyrKpzN"
      },
      "source": [
        "\n",
        "# FEP preparation and simulation on cloud wtih Gromacs.\n",
        "\n",
        "This notebook take http://www.mdtutorials.com/gmx/complex/ as a overall reference, the basic idea is to move this tutorial online as much as possible.\n",
        "\n",
        "quantaosun@gmail.com created this notebook\n",
        "\n",
        "This notebook is still under editing, so maybe just follow my repository for a complete version later.\n",
        "\n",
        "\n",
        "\n",
        "\n",
        "\n"
      ]
    },
    {
      "cell_type": "code",
      "metadata": {
        "id": "5lGZeCWrF30n",
        "cellView": "form"
      },
      "source": [
        "#@title 1. Compile Cmake and install Obabel\n",
        "%%bash\n",
        "lscpu\n",
        "nvidia-smi\n",
        "# Let's install a tool to get access to the ABFE input files from google drive\n",
        "\n",
        "#Let us download the latest CMake - required for Gromacs 2021\n",
        "\n",
        "wget https://github.com/Kitware/CMake/releases/download/v3.20.0-rc1/cmake-3.20.0-rc1.tar.gz\n",
        "tar xfz cmake-3.20.0-rc1.tar.gz\n",
        "## Install cmake\n",
        "\n",
        "mkdir /content/cmake-3.20.0-rc1/build\n",
        "cd /content/cmake-3.20.0-rc1/build\n",
        "cmake /content/cmake-3.20.0-rc1/\n",
        "make -j 2\n",
        "make install\n",
        "cd /content/\n",
        "# Install open babel\n",
        "wget https://repo.anaconda.com/miniconda/Miniconda3-py37_4.8.2-Linux-x86_64.sh &> /dev/null\n",
        "chmod +x Miniconda3-py37_4.8.2-Linux-x86_64.sh &> /dev/null\n",
        "bash ./Miniconda3-py37_4.8.2-Linux-x86_64.sh -b -f -p /usr/local &> /dev/null\n",
        "conda install -c openbabel openbabel\n",
        "#wget https://github.com/openbabel/openbabel/archive/refs/tags/openbabel-3-1-1.tar.gz\n",
        "#tar -xzvf openbabel-3-1-1.tar.gz\n",
        "#cd openbabel-openbabel-3-1-1/\n",
        "#ls\n",
        "#mkdir build\n",
        "#cd build\n",
        "#cmake ../\n",
        "#make\n",
        "#make install\n",
        "#cd /content/\n",
        "# Install netx \n",
        "!yes | pip uninstall networkx\n",
        "!pip install networkx==2.3 "
      ],
      "execution_count": null,
      "outputs": []
    },
    {
      "cell_type": "code",
      "metadata": {
        "id": "i4LublKW-ZRS",
        "cellView": "form"
      },
      "source": [
        "#@title 2.Compile Gromacs, this will take some time, be patient.\n",
        "%%bash\n",
        "wget ftp://ftp.gromacs.org/gromacs/gromacs-2021.tar.gz\n",
        "tar xfz gromacs-2021.tar.gz\n",
        "cd /content/gromacs-2021\n",
        "mkdir /content/gromacs-2021/build\n",
        "cd /content/gromacs-2021/build\n",
        "cmake .. -DGMX_BUILD_OWN_FFTW=ON -DREGRESSIONTEST_DOWNLOAD=ON -DGMX_GPU=CUDA\n",
        "make -j 2\n",
        "make install\n",
        "cd /content"
      ],
      "execution_count": null,
      "outputs": []
    },
    {
      "cell_type": "code",
      "source": [
        "import os\n",
        "os.environ[\"GROMACSHOME\"] = os.path.expanduser(\"/usr/local/gromacs\")\n",
        "#/usr/local/gromacs/bin/gmx"
      ],
      "metadata": {
        "id": "RmKeRu3ASQgp"
      },
      "execution_count": null,
      "outputs": []
    },
    {
      "cell_type": "code",
      "source": [
        "#@title Download PyAutoFEP\n",
        "%%bash\n",
        "git clone https://github.com/luancarvalhomartins/PyAutoFEP.git"
      ],
      "metadata": {
        "id": "SQ40cXKdRDvh",
        "outputId": "c5cf0a03-6b8f-4b2f-ec49-193799cae3ed",
        "colab": {
          "base_uri": "https://localhost:8080/"
        },
        "cellView": "form"
      },
      "execution_count": null,
      "outputs": [
        {
          "output_type": "stream",
          "name": "stderr",
          "text": [
            "Cloning into 'PyAutoFEP'...\n"
          ]
        }
      ]
    },
    {
      "cell_type": "code",
      "source": [
        "#@title 1A. Only use this on Colab, Skip this if you use AI Studio. Install Anaconda\n",
        "! wget https://repo.anaconda.com/miniconda/Miniconda3-py37_4.8.2-Linux-x86_64.sh \n",
        "! chmod +x Miniconda3-py37_4.8.2-Linux-x86_64.sh \n",
        "! bash ./Miniconda3-py37_4.8.2-Linux-x86_64.sh -b -f -p /usr/local\n",
        "import sys\n",
        "sys.path.append('/usr/local/lib/python3.7/site-packages')"
      ],
      "metadata": {
        "id": "2-gpa33qRDyb",
        "cellView": "form"
      },
      "execution_count": null,
      "outputs": []
    },
    {
      "cell_type": "code",
      "source": [
        "#@title 2A. Only use this on Colab. Skip this if you use AI Studio. Install Rdkit Obabel networkx pip pymbar and alchelyb\n",
        "%%bash\n",
        "# Create a conda environment and activate it.\n",
        "#conda create -n PyAutoFEP\n",
        "#conda activate PyAutoFEP\n",
        "\n",
        "# Install stuff\n",
        "conda install -c rdkit rdkit\n",
        "conda install -c openbabel openbabel # ver 3.X is not supported, make sure to install 2.4.X ver\n",
        "conda install matplotlib networkx pip\n",
        "\n",
        "# Use pip to install pymbar and alchemlyb\n",
        "pip install pymbar==3.0.3 alchemlyb==0.3.0 # Later versions are discouraged"
      ],
      "metadata": {
        "id": "SPYkLW16RD3z",
        "cellView": "form"
      },
      "execution_count": null,
      "outputs": []
    },
    {
      "cell_type": "code",
      "source": [
        "import sys\n",
        "sys.path.append('/content/PyAutoFEP')"
      ],
      "metadata": {
        "id": "tkBvx9ReRD6n"
      },
      "execution_count": null,
      "outputs": []
    },
    {
      "cell_type": "code",
      "source": [
        "!mkdir tutorial_job_run"
      ],
      "metadata": {
        "id": "S5nDoZTOy2W6"
      },
      "execution_count": null,
      "outputs": []
    },
    {
      "cell_type": "code",
      "source": [
        "%cd tutorial_job_run/ "
      ],
      "metadata": {
        "colab": {
          "base_uri": "https://localhost:8080/"
        },
        "id": "rfHwzXk9y9vB",
        "outputId": "9602ef1e-960e-4c53-ced3-4ecbb3c004f8"
      },
      "execution_count": null,
      "outputs": [
        {
          "output_type": "stream",
          "name": "stdout",
          "text": [
            "/content/tutorial_job_run\n"
          ]
        }
      ]
    },
    {
      "cell_type": "code",
      "source": [
        "!cp /content/tutorial.tar.gz ."
      ],
      "metadata": {
        "id": "WW0rW9Zmy90p"
      },
      "execution_count": null,
      "outputs": []
    },
    {
      "cell_type": "code",
      "source": [
        "!ls"
      ],
      "metadata": {
        "colab": {
          "base_uri": "https://localhost:8080/"
        },
        "id": "8vPx9UH0zaLA",
        "outputId": "8111cbaa-2e87-4e50-ac98-c0a3d0c3a8cb"
      },
      "execution_count": null,
      "outputs": [
        {
          "output_type": "stream",
          "name": "stdout",
          "text": [
            "tutorial.tar.gz\n"
          ]
        }
      ]
    },
    {
      "cell_type": "code",
      "source": [
        "!tar -xvf tutorial.tar.gz"
      ],
      "metadata": {
        "id": "QKebviTSzaOe"
      },
      "execution_count": null,
      "outputs": []
    },
    {
      "cell_type": "code",
      "source": [
        "%cd tutorial"
      ],
      "metadata": {
        "colab": {
          "base_uri": "https://localhost:8080/"
        },
        "id": "Sii2jfhFzhOt",
        "outputId": "fc6f48e3-bea7-41c8-f9be-7b1b49a46736"
      },
      "execution_count": null,
      "outputs": [
        {
          "output_type": "stream",
          "name": "stdout",
          "text": [
            "/content/tutorial_job_run/tutorial\n"
          ]
        }
      ]
    },
    {
      "cell_type": "code",
      "source": [
        "!ls"
      ],
      "metadata": {
        "colab": {
          "base_uri": "https://localhost:8080/"
        },
        "id": "CZ8iHQH7zhZH",
        "outputId": "3a545718-57fb-41ac-ea6f-6f3370dcd585"
      },
      "execution_count": null,
      "outputs": [
        {
          "output_type": "stream",
          "name": "stdout",
          "text": [
            "collect_results_from_xvg  FXR_12-FXR_76  FXR_12-FXR_85\tpack.sh       runall.sh\n",
            "FXR_12-FXR_74\t\t  FXR_12-FXR_84  FXR_12-FXR_88\tprogress.pkl\n"
          ]
        }
      ]
    },
    {
      "cell_type": "code",
      "source": [
        "while True:pass"
      ],
      "metadata": {
        "id": "s2E3O8_dzhc9"
      },
      "execution_count": null,
      "outputs": []
    },
    {
      "cell_type": "code",
      "source": [
        "!tar -xvf /content/PyAutoFEP/docs/tutorial01/workdir.tgz"
      ],
      "metadata": {
        "id": "u0xcApbBwXMd"
      },
      "execution_count": null,
      "outputs": []
    }
  ]
}